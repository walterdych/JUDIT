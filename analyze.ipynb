{
 "cells": [
  {
   "cell_type": "code",
   "execution_count": 1,
   "metadata": {},
   "outputs": [],
   "source": [
    "import pandas as pd\n",
    "import numpy as np"
   ]
  },
  {
   "cell_type": "code",
   "execution_count": 2,
   "metadata": {},
   "outputs": [],
   "source": [
    "data = pd.read_csv('data/JUDIT_Easy_p1234.csv')\n"
   ]
  },
  {
   "cell_type": "code",
   "execution_count": 3,
   "metadata": {},
   "outputs": [
    {
     "data": {
      "text/html": [
       "<div>\n",
       "<style scoped>\n",
       "    .dataframe tbody tr th:only-of-type {\n",
       "        vertical-align: middle;\n",
       "    }\n",
       "\n",
       "    .dataframe tbody tr th {\n",
       "        vertical-align: top;\n",
       "    }\n",
       "\n",
       "    .dataframe thead th {\n",
       "        text-align: right;\n",
       "    }\n",
       "</style>\n",
       "<table border=\"1\" class=\"dataframe\">\n",
       "  <thead>\n",
       "    <tr style=\"text-align: right;\">\n",
       "      <th></th>\n",
       "      <th>p_num</th>\n",
       "      <th>condition</th>\n",
       "      <th>isPeriodic</th>\n",
       "      <th>IOI</th>\n",
       "      <th>hasManip</th>\n",
       "      <th>t_num</th>\n",
       "      <th>hasManip_idx</th>\n",
       "      <th>resp</th>\n",
       "      <th>corAns</th>\n",
       "      <th>isCorrect</th>\n",
       "      <th>rt</th>\n",
       "      <th>intAmnt</th>\n",
       "      <th>transTimes</th>\n",
       "    </tr>\n",
       "  </thead>\n",
       "  <tbody>\n",
       "    <tr>\n",
       "      <th>0</th>\n",
       "      <td>p1234</td>\n",
       "      <td>1</td>\n",
       "      <td>0</td>\n",
       "      <td>NaN</td>\n",
       "      <td>1</td>\n",
       "      <td>0</td>\n",
       "      <td>14.0</td>\n",
       "      <td>no</td>\n",
       "      <td>yes</td>\n",
       "      <td>0</td>\n",
       "      <td>0.703</td>\n",
       "      <td>0.729025</td>\n",
       "      <td>[0.362, 0.286, 0.267, 0.309, 0.181, 0.338, 0.2...</td>\n",
       "    </tr>\n",
       "    <tr>\n",
       "      <th>1</th>\n",
       "      <td>p1234</td>\n",
       "      <td>1</td>\n",
       "      <td>1</td>\n",
       "      <td>0.2</td>\n",
       "      <td>1</td>\n",
       "      <td>1</td>\n",
       "      <td>12.0</td>\n",
       "      <td>no</td>\n",
       "      <td>yes</td>\n",
       "      <td>0</td>\n",
       "      <td>0.606</td>\n",
       "      <td>0.719795</td>\n",
       "      <td>[0.28, 0.28, 0.28, 0.33, 0.33, 0.28, 0.33, 0.2...</td>\n",
       "    </tr>\n",
       "    <tr>\n",
       "      <th>2</th>\n",
       "      <td>p1234</td>\n",
       "      <td>1</td>\n",
       "      <td>0</td>\n",
       "      <td>NaN</td>\n",
       "      <td>0</td>\n",
       "      <td>2</td>\n",
       "      <td>NaN</td>\n",
       "      <td>no</td>\n",
       "      <td>no</td>\n",
       "      <td>1</td>\n",
       "      <td>0.470</td>\n",
       "      <td>NaN</td>\n",
       "      <td>[0.42, 0.244, 0.41, 0.331, 0.297, 0.364, 0.196...</td>\n",
       "    </tr>\n",
       "    <tr>\n",
       "      <th>3</th>\n",
       "      <td>p1234</td>\n",
       "      <td>1</td>\n",
       "      <td>0</td>\n",
       "      <td>NaN</td>\n",
       "      <td>0</td>\n",
       "      <td>3</td>\n",
       "      <td>NaN</td>\n",
       "      <td>no</td>\n",
       "      <td>no</td>\n",
       "      <td>1</td>\n",
       "      <td>0.400</td>\n",
       "      <td>NaN</td>\n",
       "      <td>[0.394, 0.401, 0.233, 0.352, 0.298, 0.237, 0.4...</td>\n",
       "    </tr>\n",
       "    <tr>\n",
       "      <th>4</th>\n",
       "      <td>p1234</td>\n",
       "      <td>1</td>\n",
       "      <td>0</td>\n",
       "      <td>NaN</td>\n",
       "      <td>0</td>\n",
       "      <td>4</td>\n",
       "      <td>NaN</td>\n",
       "      <td>no</td>\n",
       "      <td>no</td>\n",
       "      <td>1</td>\n",
       "      <td>0.765</td>\n",
       "      <td>NaN</td>\n",
       "      <td>[0.19, 0.321, 0.307, 0.334, 0.412, 0.212, 0.18...</td>\n",
       "    </tr>\n",
       "    <tr>\n",
       "      <th>5</th>\n",
       "      <td>p1234</td>\n",
       "      <td>1</td>\n",
       "      <td>1</td>\n",
       "      <td>0.2</td>\n",
       "      <td>1</td>\n",
       "      <td>5</td>\n",
       "      <td>12.0</td>\n",
       "      <td>no</td>\n",
       "      <td>yes</td>\n",
       "      <td>0</td>\n",
       "      <td>0.713</td>\n",
       "      <td>0.708867</td>\n",
       "      <td>[0.33, 0.28, 0.28, 0.281, 0.33, 0.33, 0.28, 0....</td>\n",
       "    </tr>\n",
       "  </tbody>\n",
       "</table>\n",
       "</div>"
      ],
      "text/plain": [
       "   p_num  condition  isPeriodic  IOI  hasManip  t_num  hasManip_idx resp  \\\n",
       "0  p1234          1           0  NaN         1      0          14.0   no   \n",
       "1  p1234          1           1  0.2         1      1          12.0   no   \n",
       "2  p1234          1           0  NaN         0      2           NaN   no   \n",
       "3  p1234          1           0  NaN         0      3           NaN   no   \n",
       "4  p1234          1           0  NaN         0      4           NaN   no   \n",
       "5  p1234          1           1  0.2         1      5          12.0   no   \n",
       "\n",
       "  corAns  isCorrect     rt   intAmnt  \\\n",
       "0    yes          0  0.703  0.729025   \n",
       "1    yes          0  0.606  0.719795   \n",
       "2     no          1  0.470       NaN   \n",
       "3     no          1  0.400       NaN   \n",
       "4     no          1  0.765       NaN   \n",
       "5    yes          0  0.713  0.708867   \n",
       "\n",
       "                                          transTimes  \n",
       "0  [0.362, 0.286, 0.267, 0.309, 0.181, 0.338, 0.2...  \n",
       "1  [0.28, 0.28, 0.28, 0.33, 0.33, 0.28, 0.33, 0.2...  \n",
       "2  [0.42, 0.244, 0.41, 0.331, 0.297, 0.364, 0.196...  \n",
       "3  [0.394, 0.401, 0.233, 0.352, 0.298, 0.237, 0.4...  \n",
       "4  [0.19, 0.321, 0.307, 0.334, 0.412, 0.212, 0.18...  \n",
       "5  [0.33, 0.28, 0.28, 0.281, 0.33, 0.33, 0.28, 0....  "
      ]
     },
     "execution_count": 3,
     "metadata": {},
     "output_type": "execute_result"
    }
   ],
   "source": [
    "data"
   ]
  },
  {
   "cell_type": "code",
   "execution_count": 4,
   "metadata": {},
   "outputs": [
    {
     "data": {
      "text/plain": [
       "0.3333333333333333"
      ]
     },
     "execution_count": 4,
     "metadata": {},
     "output_type": "execute_result"
    }
   ],
   "source": [
    "# Count how many trials had hasManip = 1\n",
    "data['isPeriodic'].sum() / len(data)"
   ]
  },
  {
   "cell_type": "code",
   "execution_count": 5,
   "metadata": {},
   "outputs": [
    {
     "data": {
      "text/plain": [
       "(hasManip_idx\n",
       " 12.0    2\n",
       " Name: count, dtype: int64,)"
      ]
     },
     "execution_count": 5,
     "metadata": {},
     "output_type": "execute_result"
    }
   ],
   "source": [
    "# When hasManip = 1, how many trials had a manipulation in position 6 (hasManip_idx = 6)?\n",
    "data[data['isPeriodic'] == 1]['hasManip_idx'].value_counts(), "
   ]
  },
  {
   "cell_type": "code",
   "execution_count": 6,
   "metadata": {},
   "outputs": [
    {
     "data": {
      "text/plain": [
       "hasManip_idx\n",
       "14.0    1\n",
       "Name: count, dtype: int64"
      ]
     },
     "execution_count": 6,
     "metadata": {},
     "output_type": "execute_result"
    }
   ],
   "source": [
    "data[data['isPeriodic'] == 0]['hasManip_idx'].value_counts()"
   ]
  },
  {
   "cell_type": "code",
   "execution_count": null,
   "metadata": {},
   "outputs": [],
   "source": []
  }
 ],
 "metadata": {
  "kernelspec": {
   "display_name": "Python 3",
   "language": "python",
   "name": "python3"
  },
  "language_info": {
   "codemirror_mode": {
    "name": "ipython",
    "version": 3
   },
   "file_extension": ".py",
   "mimetype": "text/x-python",
   "name": "python",
   "nbconvert_exporter": "python",
   "pygments_lexer": "ipython3",
   "version": "3.11.7"
  }
 },
 "nbformat": 4,
 "nbformat_minor": 2
}
